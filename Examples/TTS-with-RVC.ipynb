{
  "nbformat": 4,
  "nbformat_minor": 0,
  "metadata": {
    "colab": {
      "provenance": [],
      "gpuType": "T4"
    },
    "kernelspec": {
      "name": "python3",
      "display_name": "Python 3"
    },
    "language_info": {
      "name": "python"
    },
    "accelerator": "GPU"
  },
  "cells": [
    {
      "cell_type": "markdown",
      "source": [
        "# TTS-with-RVC Google Colab example"
      ],
      "metadata": {
        "id": "BbkOeP2vO06W"
      }
    },
    {
      "cell_type": "markdown",
      "source": [
        "1. Install UV for venv with python 3.10"
      ],
      "metadata": {
        "id": "CS8gs9MmOXRT"
      }
    },
    {
      "cell_type": "code",
      "execution_count": null,
      "metadata": {
        "id": "MRkC_9iOJaTz"
      },
      "outputs": [],
      "source": [
        "!python -m pip install uv\n",
        "!uv --version\n",
        "!uv python install 3.10\n",
        "!uv venv --python 3.10\n",
        "!source .venv/bin/activate"
      ]
    },
    {
      "cell_type": "markdown",
      "source": [
        "2. Install deps"
      ],
      "metadata": {
        "id": "dZ7thhfPOeDm"
      }
    },
    {
      "cell_type": "code",
      "source": [
        "!source .venv/bin/activate && uv pip install torch torchvision torchaudio --index-url https://download.pytorch.org/whl/cu126\n",
        "!source .venv/bin/activate && uv pip install git+https://github.com/Atm4x/tts-with-rvc.git#egg=tts_with_rvc"
      ],
      "metadata": {
        "collapsed": true,
        "id": "jr0E_7S9Jmj6"
      },
      "execution_count": null,
      "outputs": []
    },
    {
      "cell_type": "markdown",
      "source": [
        "3. Write file with your code (for venv attach)"
      ],
      "metadata": {
        "id": "RpnlcMYvOhXa"
      }
    },
    {
      "cell_type": "code",
      "source": [
        "%%writefile main.py\n",
        "from tts_with_rvc import TTS_RVC\n",
        "\n",
        "tts = TTS_RVC(\n",
        "    model_path=\"/content/models/DenVot13800.pth\",\n",
        "    input_directory=\"input\\\\\"\n",
        ")\n",
        "tts.set_voice(\"ru-RU-DmitryNeural\")\n",
        "path = tts(text=\"Привет, мир!\", pitch=6, index_rate=0.9)\n",
        "print(path)"
      ],
      "metadata": {
        "colab": {
          "base_uri": "https://localhost:8080/"
        },
        "id": "yVRsfvRUNzgS",
        "outputId": "8990b38b-b103-43c5-e3f3-7c862c854169"
      },
      "execution_count": 30,
      "outputs": [
        {
          "output_type": "stream",
          "name": "stdout",
          "text": [
            "Overwriting main.py\n"
          ]
        }
      ]
    },
    {
      "cell_type": "markdown",
      "source": [
        "4. Upload .pth file"
      ],
      "metadata": {
        "id": "gvXlpFWhO7Do"
      }
    },
    {
      "cell_type": "markdown",
      "source": [
        "5. Run the script"
      ],
      "metadata": {
        "id": "0tlsueqEOxml"
      }
    },
    {
      "cell_type": "code",
      "source": [
        "!source .venv/bin/activate && uv run main.py"
      ],
      "metadata": {
        "colab": {
          "base_uri": "https://localhost:8080/"
        },
        "id": "kbIAgN6CJvgd",
        "outputId": "1c129c41-8697-48ff-c837-40ec18e222b8"
      },
      "execution_count": 31,
      "outputs": [
        {
          "output_type": "stream",
          "name": "stdout",
          "text": [
            "loading pth /content/models/DenVot13800.pth\n",
            "/content/.venv/lib/python3.10/site-packages/tts_with_rvc/infer.py:223: UserWarning: Environment variable TORCH_FORCE_NO_WEIGHTS_ONLY_LOAD detected, since the`weights_only` argument was not explicitly passed to `torch.load`, forcing weights_only=False.\n",
            "  cpt = torch.load(model_path, map_location=\"cpu\")\n",
            "/content/.venv/lib/python3.10/site-packages/torch/nn/utils/weight_norm.py:143: FutureWarning: `torch.nn.utils.weight_norm` is deprecated in favor of `torch.nn.utils.parametrizations.weight_norm`.\n",
            "  WeightNorm.apply(module, name, dim)\n",
            "gin_channels: 256 self.spk_embed_dim: 109\n",
            "<All keys matched successfully>\n",
            "/content/.venv/lib/python3.10/site-packages/fairseq/checkpoint_utils.py:315: UserWarning: Environment variable TORCH_FORCE_NO_WEIGHTS_ONLY_LOAD detected, since the`weights_only` argument was not explicitly passed to `torch.load`, forcing weights_only=False.\n",
            "  state = torch.load(f, map_location=torch.device(\"cpu\"))\n",
            "/content/.venv/lib/python3.10/site-packages/torch/nn/utils/weight_norm.py:143: FutureWarning: `torch.nn.utils.weight_norm` is deprecated in favor of `torch.nn.utils.parametrizations.weight_norm`.\n",
            "  WeightNorm.apply(module, name, dim)\n",
            "loading rmvpe model\n",
            "/content/.venv/lib/python3.10/site-packages/tts_with_rvc/lib/rmvpe.py:336: UserWarning: Environment variable TORCH_FORCE_NO_WEIGHTS_ONLY_LOAD detected, since the`weights_only` argument was not explicitly passed to `torch.load`, forcing weights_only=False.\n",
            "  ckpt = torch.load(model_path, map_location=\"cpu\")\n",
            "\n",
            "File finished writing to: /content/temp/out.wav\n",
            "/content/temp/a699b180.wav\n"
          ]
        }
      ]
    }
  ]
}
